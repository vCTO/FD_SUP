{
 "cells": [
  {
   "cell_type": "markdown",
   "metadata": {},
   "source": [
    "### Data Exploration for Foundations in Data Science Team Project\n",
    "Start by reading in the pickle file from the data load\n"
   ]
  },
  {
   "cell_type": "code",
   "execution_count": null,
   "metadata": {},
   "outputs": [],
   "source": [
    "sx ls ../data"
   ]
  },
  {
   "cell_type": "code",
   "execution_count": 1,
   "metadata": {},
   "outputs": [],
   "source": [
    "import pickle\n",
    "import os\n",
    "import glob\n",
    "import numpy as np\n",
    "import pandas as pd\n",
    "import matplotlib.pyplot as plt\n",
    "import seaborn\n",
    "from sklearn.decomposition import PCA\n",
    "\n",
    "df = pd.read_pickle('../data/cleandf.pkl')"
   ]
  },
  {
   "cell_type": "code",
   "execution_count": 2,
   "metadata": {},
   "outputs": [
    {
     "data": {
      "text/html": [
       "<div>\n",
       "<style scoped>\n",
       "    .dataframe tbody tr th:only-of-type {\n",
       "        vertical-align: middle;\n",
       "    }\n",
       "\n",
       "    .dataframe tbody tr th {\n",
       "        vertical-align: top;\n",
       "    }\n",
       "\n",
       "    .dataframe thead th {\n",
       "        text-align: right;\n",
       "    }\n",
       "</style>\n",
       "<table border=\"1\" class=\"dataframe\">\n",
       "  <thead>\n",
       "    <tr style=\"text-align: right;\">\n",
       "      <th></th>\n",
       "      <th>control</th>\n",
       "      <th>age1_x</th>\n",
       "      <th>metro3</th>\n",
       "      <th>region</th>\n",
       "      <th>l_med_x</th>\n",
       "      <th>fmr_x</th>\n",
       "      <th>l_30_x</th>\n",
       "      <th>l_50_x</th>\n",
       "      <th>l_80_x</th>\n",
       "      <th>i_pov_x</th>\n",
       "      <th>...</th>\n",
       "      <th>in91_hud_med</th>\n",
       "      <th>in93_hud_med</th>\n",
       "      <th>in95_hud_med</th>\n",
       "      <th>in97_hud_med</th>\n",
       "      <th>in99_hud_med</th>\n",
       "      <th>in01_hud_med</th>\n",
       "      <th>in03_hud_med</th>\n",
       "      <th>in05_hud_med</th>\n",
       "      <th>in07_hud_med</th>\n",
       "      <th>in09_hud_med</th>\n",
       "    </tr>\n",
       "  </thead>\n",
       "  <tbody>\n",
       "    <tr>\n",
       "      <th>0</th>\n",
       "      <td>54288</td>\n",
       "      <td>82</td>\n",
       "      <td>'3'</td>\n",
       "      <td>'1'</td>\n",
       "      <td>73738</td>\n",
       "      <td>956</td>\n",
       "      <td>15738</td>\n",
       "      <td>26213</td>\n",
       "      <td>40322</td>\n",
       "      <td>11067</td>\n",
       "      <td>...</td>\n",
       "      <td>38000</td>\n",
       "      <td>34800</td>\n",
       "      <td>35700</td>\n",
       "      <td>39100</td>\n",
       "      <td>42400</td>\n",
       "      <td>45600</td>\n",
       "      <td>43800</td>\n",
       "      <td>46350</td>\n",
       "      <td>45200.0</td>\n",
       "      <td>50800.0</td>\n",
       "    </tr>\n",
       "    <tr>\n",
       "      <th>1</th>\n",
       "      <td>54290</td>\n",
       "      <td>50</td>\n",
       "      <td>'5'</td>\n",
       "      <td>'3'</td>\n",
       "      <td>55846</td>\n",
       "      <td>1100</td>\n",
       "      <td>17165</td>\n",
       "      <td>28604</td>\n",
       "      <td>45744</td>\n",
       "      <td>24218</td>\n",
       "      <td>...</td>\n",
       "      <td>38000</td>\n",
       "      <td>34800</td>\n",
       "      <td>35700</td>\n",
       "      <td>39100</td>\n",
       "      <td>42400</td>\n",
       "      <td>45600</td>\n",
       "      <td>43800</td>\n",
       "      <td>46350</td>\n",
       "      <td>45200.0</td>\n",
       "      <td>50800.0</td>\n",
       "    </tr>\n",
       "    <tr>\n",
       "      <th>2</th>\n",
       "      <td>54291</td>\n",
       "      <td>53</td>\n",
       "      <td>'5'</td>\n",
       "      <td>'3'</td>\n",
       "      <td>55846</td>\n",
       "      <td>1100</td>\n",
       "      <td>13750</td>\n",
       "      <td>22897</td>\n",
       "      <td>36614</td>\n",
       "      <td>15470</td>\n",
       "      <td>...</td>\n",
       "      <td>38000</td>\n",
       "      <td>34800</td>\n",
       "      <td>35700</td>\n",
       "      <td>39100</td>\n",
       "      <td>42400</td>\n",
       "      <td>45600</td>\n",
       "      <td>43800</td>\n",
       "      <td>46350</td>\n",
       "      <td>45200.0</td>\n",
       "      <td>50800.0</td>\n",
       "    </tr>\n",
       "    <tr>\n",
       "      <th>3</th>\n",
       "      <td>54295</td>\n",
       "      <td>67</td>\n",
       "      <td>'5'</td>\n",
       "      <td>'3'</td>\n",
       "      <td>55846</td>\n",
       "      <td>949</td>\n",
       "      <td>13750</td>\n",
       "      <td>22897</td>\n",
       "      <td>36614</td>\n",
       "      <td>13964</td>\n",
       "      <td>...</td>\n",
       "      <td>38000</td>\n",
       "      <td>34800</td>\n",
       "      <td>35700</td>\n",
       "      <td>39100</td>\n",
       "      <td>42400</td>\n",
       "      <td>45600</td>\n",
       "      <td>43800</td>\n",
       "      <td>46350</td>\n",
       "      <td>45200.0</td>\n",
       "      <td>50800.0</td>\n",
       "    </tr>\n",
       "  </tbody>\n",
       "</table>\n",
       "<p>4 rows × 211 columns</p>\n",
       "</div>"
      ],
      "text/plain": [
       "   control  age1_x metro3 region  l_med_x  fmr_x  l_30_x  l_50_x  l_80_x  \\\n",
       "0    54288      82    '3'    '1'    73738    956   15738   26213   40322   \n",
       "1    54290      50    '5'    '3'    55846   1100   17165   28604   45744   \n",
       "2    54291      53    '5'    '3'    55846   1100   13750   22897   36614   \n",
       "3    54295      67    '5'    '3'    55846    949   13750   22897   36614   \n",
       "\n",
       "   i_pov_x  ...  in91_hud_med  in93_hud_med in95_hud_med  in97_hud_med  \\\n",
       "0    11067  ...         38000         34800        35700         39100   \n",
       "1    24218  ...         38000         34800        35700         39100   \n",
       "2    15470  ...         38000         34800        35700         39100   \n",
       "3    13964  ...         38000         34800        35700         39100   \n",
       "\n",
       "   in99_hud_med  in01_hud_med in03_hud_med  in05_hud_med  in07_hud_med  \\\n",
       "0         42400         45600        43800         46350       45200.0   \n",
       "1         42400         45600        43800         46350       45200.0   \n",
       "2         42400         45600        43800         46350       45200.0   \n",
       "3         42400         45600        43800         46350       45200.0   \n",
       "\n",
       "   in09_hud_med  \n",
       "0       50800.0  \n",
       "1       50800.0  \n",
       "2       50800.0  \n",
       "3       50800.0  \n",
       "\n",
       "[4 rows x 211 columns]"
      ]
     },
     "execution_count": 2,
     "metadata": {},
     "output_type": "execute_result"
    }
   ],
   "source": [
    "df.head(4)"
   ]
  },
  {
   "cell_type": "code",
   "execution_count": null,
   "metadata": {},
   "outputs": [],
   "source": [
    "new_df = df.filter(regex='zinc2_x|hud_med')\n",
    "new_df.head(4)\n",
    "new_df.describe()"
   ]
  },
  {
   "cell_type": "code",
   "execution_count": null,
   "metadata": {},
   "outputs": [],
   "source": [
    "corr_new_df = new_df.corr(method='pearson')\n",
    "print('----------Correlations using Pearson Method----------')\n",
    "print(corr_new_df)\n",
    "print('----------Heatmap based on above correlations----------')\n",
    "mask = np.zeros_like(corr_new_df)\n",
    "mask[np.triu_indices_from(mask)] = True\n",
    "seaborn.heatmap(corr_new_df, cmap='RdYlGn_r', vmax=1.0, vmin=-1.0, mask = mask, linewidths=2.5)\n",
    "\n",
    "plt.yticks(rotation=0) \n",
    "plt.xticks(rotation=90) \n",
    "plt.show()"
   ]
  },
  {
   "cell_type": "code",
   "execution_count": null,
   "metadata": {},
   "outputs": [],
   "source": [
    "# investigate own_rent\n",
    "df.own_rent_x.unique()"
   ]
  },
  {
   "cell_type": "code",
   "execution_count": 3,
   "metadata": {},
   "outputs": [],
   "source": [
    "# Seperate out the features and set OWN_RENT_X as the target\n",
    "df_y = df['own_rent_y']\n"
   ]
  },
  {
   "cell_type": "code",
   "execution_count": 4,
   "metadata": {},
   "outputs": [
    {
     "name": "stderr",
     "output_type": "stream",
     "text": [
      "/anaconda3/lib/python3.7/site-packages/pandas/core/indexing.py:1494: FutureWarning: \n",
      "Passing list-likes to .loc or [] with any missing label will raise\n",
      "KeyError in the future, you can use .reindex() as an alternative.\n",
      "\n",
      "See the documentation here:\n",
      "https://pandas.pydata.org/pandas-docs/stable/indexing.html#deprecate-loc-reindex-listlike\n",
      "  return self._getitem_tuple(key)\n"
     ]
    },
    {
     "data": {
      "text/plain": [
       "array([[2.00000000e+00, 5.00000000e+03, 8.73531994e+02, ...,\n",
       "        1.09431696e+02, 5.00000000e+03, 5.08000000e+04],\n",
       "       [2.00000000e+00, 5.00000000e+03, 7.61134617e+02, ...,\n",
       "        9.91087344e+01, 5.00000000e+03, 5.08000000e+04],\n",
       "       [2.00000000e+00, 5.00000000e+03, 8.67961424e+02, ...,\n",
       "        2.91288236e+02, 5.00000000e+03, 5.08000000e+04],\n",
       "       ...,\n",
       "       [2.00000000e+00, 4.12000000e+03, 2.59964915e+02, ...,\n",
       "        1.17679692e+02, 4.12000000e+03, 5.53666700e+04],\n",
       "       [2.00000000e+00, 4.12000000e+03, 2.34389546e+02, ...,\n",
       "        7.41541353e+01, 4.12000000e+03, 5.53666700e+04],\n",
       "       [1.00000000e+00, 4.12000000e+03, 2.34389546e+02, ...,\n",
       "        7.96296296e+01, 4.12000000e+03, 5.53666700e+04]])"
      ]
     },
     "execution_count": 4,
     "metadata": {},
     "output_type": "execute_result"
    }
   ],
   "source": [
    "#features = ['age1_x', 'other_cost_x', 'cost06', 'cost12', 'cost_08_x', 'cost_med_x', 'tot_sal_x', 'assisted_x', 'gl_med_x', 'gl_30_x', 'gl_50_x', 'gl_80_x', 'apl_med_x', 'abl_30_x', 'abl_50_x', 'abl_80_x', 'abl_med_x', 'burden_x', 'cost_med_rel_fmr_cat', 'msa', 'wgt_metro', 'per_y', 'zinc2_y', 'zsmhc_y', 'age1_y', 'structure_type_y', 'utility_y', 'other_cost_y', 'cost_06', 'cost_12', 'cost_08_y', 'cost_med_y', 'tot_sal_y', 'assisted_y', 'i_pov_y’, ’l_med_y', 'l_50_y', 'l_80_y', 'fmr_y', 'gl_med_y', 'gl_30_y', 'l_30_y', 'gl_50_y', 'gl_80_y', 'apl_med_y', 'abl_30_y', 'abl_50_y', 'abl_80_y', 'abl_med_y', 'burden_y', 'inc_rel_ami_pct_y', 'inc_pel_ami_cat', 'inc_rel_pov_pct_y', 'inc_rel_pov_cat_y', 'inc_rel_fmr_pct_y', 'inc_rel_fmr_cat_y', 'cost12_rel_ami_pct_y', 'cost12_rel_ami_cat_y', 'cost12_rel_pov_pct_y', 'cost12_rel_pov_cat_y', 'cost12_rel_fmr_pct_y', 'cost12_rel_fmr_cat_y', 'cost_med_rel_ami_pct_y', 'cost_med_rel_ami_cat_y', 'cost_med_rel_pov_pct_y', 'cost_med_rel_pov_cat_y', 'cost_med_rel_fmr_pct_y', 'cost_med_rel_fmr_pct_y', 'in09_smsa', 'in09_hud_med']\n",
    "features = ['cost_med_rel_fmr_cat', 'msa', 'wgt_metro', 'per_y', 'zinc2_y', 'zsmhc_y', 'age1_y', 'structure_type_y', 'utility_y', 'other_cost_y', 'cost_06', 'cost_12', 'cost_08_y', 'cost_med_y', 'tot_sal_y', 'assisted_y', 'i_pov_y’, ’l_med_y', 'l_50_y', 'l_80_y', 'fmr_y', 'gl_med_y', 'gl_30_y', 'l_30_y', 'gl_50_y', 'gl_80_y', 'apl_med_y', 'abl_30_y', 'abl_50_y', 'abl_80_y', 'abl_med_y', 'burden_y', 'inc_rel_ami_pct_y', 'inc_pel_ami_cat', 'inc_rel_pov_pct_y', 'inc_rel_pov_cat_y', 'inc_rel_fmr_pct_y', 'inc_rel_fmr_cat_y', 'cost12_rel_ami_pct_y', 'cost12_rel_ami_cat_y', 'cost12_rel_pov_pct_y', 'cost12_rel_pov_cat_y', 'cost12_rel_fmr_pct_y', 'in09_smsa', 'in09_hud_med']\n",
    "\n",
    "df_x = df.loc[:, features].values\n",
    "df_x\n"
   ]
  },
  {
   "cell_type": "code",
   "execution_count": 5,
   "metadata": {},
   "outputs": [],
   "source": [
    "df_features = pd.DataFrame(df_x)\n",
    "df_next = df_features.replace([np.inf, -np.inf], np.nan)\n",
    "#df_features.head(1000)\n",
    "#df_cleaned = df_features.dropna(how='any') "
   ]
  },
  {
   "cell_type": "code",
   "execution_count": 6,
   "metadata": {},
   "outputs": [],
   "source": [
    "df_next.describe()\n",
    "df_cleaned = df_next.dropna(how='any') \n",
    "df_cleaned.isna().all()\n",
    "df_cleaned = np.ndarray(df_cleaned)"
   ]
  },
  {
   "cell_type": "code",
   "execution_count": 8,
   "metadata": {},
   "outputs": [
    {
     "data": {
      "text/plain": [
       "array([[2.00000000e+00, 5.00000000e+03, 8.73531994e+02, ...,\n",
       "        1.09431696e+02, 5.00000000e+03, 5.08000000e+04],\n",
       "       [2.00000000e+00, 5.00000000e+03, 7.61134617e+02, ...,\n",
       "        9.91087344e+01, 5.00000000e+03, 5.08000000e+04],\n",
       "       [2.00000000e+00, 5.00000000e+03, 8.67961424e+02, ...,\n",
       "        2.91288236e+02, 5.00000000e+03, 5.08000000e+04],\n",
       "       ...,\n",
       "       [2.00000000e+00, 4.12000000e+03, 2.59964915e+02, ...,\n",
       "        1.17679692e+02, 4.12000000e+03, 5.53666700e+04],\n",
       "       [2.00000000e+00, 4.12000000e+03, 2.34389546e+02, ...,\n",
       "        7.41541353e+01, 4.12000000e+03, 5.53666700e+04],\n",
       "       [1.00000000e+00, 4.12000000e+03, 2.34389546e+02, ...,\n",
       "        7.96296296e+01, 4.12000000e+03, 5.53666700e+04]])"
      ]
     },
     "execution_count": 8,
     "metadata": {},
     "output_type": "execute_result"
    }
   ],
   "source": [
    "np.nan_to_num(df_x)\n"
   ]
  },
  {
   "cell_type": "code",
   "execution_count": 9,
   "metadata": {},
   "outputs": [
    {
     "name": "stderr",
     "output_type": "stream",
     "text": [
      "/anaconda3/lib/python3.7/site-packages/sklearn/utils/extmath.py:776: RuntimeWarning: invalid value encountered in true_divide\n",
      "  updated_mean = (last_sum + new_sum) / updated_sample_count\n",
      "/anaconda3/lib/python3.7/site-packages/sklearn/utils/extmath.py:781: RuntimeWarning: Degrees of freedom <= 0 for slice.\n",
      "  new_unnormalized_variance = np.nanvar(X, axis=0) * new_sample_count\n"
     ]
    }
   ],
   "source": [
    "from sklearn.preprocessing import StandardScaler\n",
    "df_cleaned = StandardScaler().fit_transform(df_x)"
   ]
  },
  {
   "cell_type": "code",
   "execution_count": 10,
   "metadata": {},
   "outputs": [
    {
     "ename": "ValueError",
     "evalue": "Input contains NaN, infinity or a value too large for dtype('float64').",
     "output_type": "error",
     "traceback": [
      "\u001b[0;31m---------------------------------------------------------------------------\u001b[0m",
      "\u001b[0;31mValueError\u001b[0m                                Traceback (most recent call last)",
      "\u001b[0;32m<ipython-input-10-c83c4130b121>\u001b[0m in \u001b[0;36m<module>\u001b[0;34m\u001b[0m\n\u001b[1;32m      1\u001b[0m \u001b[0;32mfrom\u001b[0m \u001b[0msklearn\u001b[0m\u001b[0;34m.\u001b[0m\u001b[0mdecomposition\u001b[0m \u001b[0;32mimport\u001b[0m \u001b[0mPCA\u001b[0m\u001b[0;34m\u001b[0m\u001b[0;34m\u001b[0m\u001b[0m\n\u001b[1;32m      2\u001b[0m \u001b[0mpca\u001b[0m \u001b[0;34m=\u001b[0m \u001b[0mPCA\u001b[0m\u001b[0;34m(\u001b[0m\u001b[0mn_components\u001b[0m\u001b[0;34m=\u001b[0m\u001b[0;36m10\u001b[0m\u001b[0;34m)\u001b[0m\u001b[0;34m\u001b[0m\u001b[0;34m\u001b[0m\u001b[0m\n\u001b[0;32m----> 3\u001b[0;31m \u001b[0mprincipalComponents\u001b[0m \u001b[0;34m=\u001b[0m \u001b[0mpca\u001b[0m\u001b[0;34m.\u001b[0m\u001b[0mfit_transform\u001b[0m\u001b[0;34m(\u001b[0m\u001b[0mdf_cleaned\u001b[0m\u001b[0;34m)\u001b[0m\u001b[0;34m\u001b[0m\u001b[0;34m\u001b[0m\u001b[0m\n\u001b[0m",
      "\u001b[0;32m/anaconda3/lib/python3.7/site-packages/sklearn/decomposition/pca.py\u001b[0m in \u001b[0;36mfit_transform\u001b[0;34m(self, X, y)\u001b[0m\n\u001b[1;32m    357\u001b[0m \u001b[0;34m\u001b[0m\u001b[0m\n\u001b[1;32m    358\u001b[0m         \"\"\"\n\u001b[0;32m--> 359\u001b[0;31m         \u001b[0mU\u001b[0m\u001b[0;34m,\u001b[0m \u001b[0mS\u001b[0m\u001b[0;34m,\u001b[0m \u001b[0mV\u001b[0m \u001b[0;34m=\u001b[0m \u001b[0mself\u001b[0m\u001b[0;34m.\u001b[0m\u001b[0m_fit\u001b[0m\u001b[0;34m(\u001b[0m\u001b[0mX\u001b[0m\u001b[0;34m)\u001b[0m\u001b[0;34m\u001b[0m\u001b[0;34m\u001b[0m\u001b[0m\n\u001b[0m\u001b[1;32m    360\u001b[0m         \u001b[0mU\u001b[0m \u001b[0;34m=\u001b[0m \u001b[0mU\u001b[0m\u001b[0;34m[\u001b[0m\u001b[0;34m:\u001b[0m\u001b[0;34m,\u001b[0m \u001b[0;34m:\u001b[0m\u001b[0mself\u001b[0m\u001b[0;34m.\u001b[0m\u001b[0mn_components_\u001b[0m\u001b[0;34m]\u001b[0m\u001b[0;34m\u001b[0m\u001b[0;34m\u001b[0m\u001b[0m\n\u001b[1;32m    361\u001b[0m \u001b[0;34m\u001b[0m\u001b[0m\n",
      "\u001b[0;32m/anaconda3/lib/python3.7/site-packages/sklearn/decomposition/pca.py\u001b[0m in \u001b[0;36m_fit\u001b[0;34m(self, X)\u001b[0m\n\u001b[1;32m    379\u001b[0m \u001b[0;34m\u001b[0m\u001b[0m\n\u001b[1;32m    380\u001b[0m         X = check_array(X, dtype=[np.float64, np.float32], ensure_2d=True,\n\u001b[0;32m--> 381\u001b[0;31m                         copy=self.copy)\n\u001b[0m\u001b[1;32m    382\u001b[0m \u001b[0;34m\u001b[0m\u001b[0m\n\u001b[1;32m    383\u001b[0m         \u001b[0;31m# Handle n_components==None\u001b[0m\u001b[0;34m\u001b[0m\u001b[0;34m\u001b[0m\u001b[0;34m\u001b[0m\u001b[0m\n",
      "\u001b[0;32m/anaconda3/lib/python3.7/site-packages/sklearn/utils/validation.py\u001b[0m in \u001b[0;36mcheck_array\u001b[0;34m(array, accept_sparse, accept_large_sparse, dtype, order, copy, force_all_finite, ensure_2d, allow_nd, ensure_min_samples, ensure_min_features, warn_on_dtype, estimator)\u001b[0m\n\u001b[1;32m    571\u001b[0m         \u001b[0;32mif\u001b[0m \u001b[0mforce_all_finite\u001b[0m\u001b[0;34m:\u001b[0m\u001b[0;34m\u001b[0m\u001b[0;34m\u001b[0m\u001b[0m\n\u001b[1;32m    572\u001b[0m             _assert_all_finite(array,\n\u001b[0;32m--> 573\u001b[0;31m                                allow_nan=force_all_finite == 'allow-nan')\n\u001b[0m\u001b[1;32m    574\u001b[0m \u001b[0;34m\u001b[0m\u001b[0m\n\u001b[1;32m    575\u001b[0m     \u001b[0mshape_repr\u001b[0m \u001b[0;34m=\u001b[0m \u001b[0m_shape_repr\u001b[0m\u001b[0;34m(\u001b[0m\u001b[0marray\u001b[0m\u001b[0;34m.\u001b[0m\u001b[0mshape\u001b[0m\u001b[0;34m)\u001b[0m\u001b[0;34m\u001b[0m\u001b[0;34m\u001b[0m\u001b[0m\n",
      "\u001b[0;32m/anaconda3/lib/python3.7/site-packages/sklearn/utils/validation.py\u001b[0m in \u001b[0;36m_assert_all_finite\u001b[0;34m(X, allow_nan)\u001b[0m\n\u001b[1;32m     54\u001b[0m                 not allow_nan and not np.isfinite(X).all()):\n\u001b[1;32m     55\u001b[0m             \u001b[0mtype_err\u001b[0m \u001b[0;34m=\u001b[0m \u001b[0;34m'infinity'\u001b[0m \u001b[0;32mif\u001b[0m \u001b[0mallow_nan\u001b[0m \u001b[0;32melse\u001b[0m \u001b[0;34m'NaN, infinity'\u001b[0m\u001b[0;34m\u001b[0m\u001b[0;34m\u001b[0m\u001b[0m\n\u001b[0;32m---> 56\u001b[0;31m             \u001b[0;32mraise\u001b[0m \u001b[0mValueError\u001b[0m\u001b[0;34m(\u001b[0m\u001b[0mmsg_err\u001b[0m\u001b[0;34m.\u001b[0m\u001b[0mformat\u001b[0m\u001b[0;34m(\u001b[0m\u001b[0mtype_err\u001b[0m\u001b[0;34m,\u001b[0m \u001b[0mX\u001b[0m\u001b[0;34m.\u001b[0m\u001b[0mdtype\u001b[0m\u001b[0;34m)\u001b[0m\u001b[0;34m)\u001b[0m\u001b[0;34m\u001b[0m\u001b[0;34m\u001b[0m\u001b[0m\n\u001b[0m\u001b[1;32m     57\u001b[0m \u001b[0;34m\u001b[0m\u001b[0m\n\u001b[1;32m     58\u001b[0m \u001b[0;34m\u001b[0m\u001b[0m\n",
      "\u001b[0;31mValueError\u001b[0m: Input contains NaN, infinity or a value too large for dtype('float64')."
     ]
    }
   ],
   "source": [
    "from sklearn.decomposition import PCA\n",
    "pca = PCA(n_components=10)\n",
    "principalComponents = pca.fit_transform(df_cleaned)\n"
   ]
  },
  {
   "cell_type": "code",
   "execution_count": null,
   "metadata": {},
   "outputs": [],
   "source": [
    "principalDf = pd.DataFrame(data = principalComponents\n",
    "             , columns = ['principal component 1', 'principal component 2', 'principal component 3', 'principal component 4', 'principal component 5', 'principal component 6', 'principal component 7', 'principal component 8', 'principal component 9', 'principal component 10'])\n",
    "\n"
   ]
  },
  {
   "cell_type": "code",
   "execution_count": null,
   "metadata": {},
   "outputs": [],
   "source": []
  }
 ],
 "metadata": {
  "kernelspec": {
   "display_name": "Python 3",
   "language": "python",
   "name": "python3"
  },
  "language_info": {
   "codemirror_mode": {
    "name": "ipython",
    "version": 3
   },
   "file_extension": ".py",
   "mimetype": "text/x-python",
   "name": "python",
   "nbconvert_exporter": "python",
   "pygments_lexer": "ipython3",
   "version": "3.7.3"
  }
 },
 "nbformat": 4,
 "nbformat_minor": 2
}
