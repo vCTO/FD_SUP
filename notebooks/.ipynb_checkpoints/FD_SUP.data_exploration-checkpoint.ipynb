{
 "cells": [
  {
   "cell_type": "markdown",
   "metadata": {},
   "source": [
    "### Data Exploration for Foundations in Data Science Team Project\n",
    "Start by reading in the pickle file from the data load\n"
   ]
  },
  {
   "cell_type": "code",
   "execution_count": null,
   "metadata": {},
   "outputs": [],
   "source": [
    "sx ls ../data"
   ]
  },
  {
   "cell_type": "code",
   "execution_count": 3,
   "metadata": {},
   "outputs": [],
   "source": [
    "import pickle\n",
    "import os\n",
    "import glob\n",
    "import numpy as np\n",
    "import pandas as pd\n",
    "import matplotlib.pyplot as plt\n",
    "import seaborn\n",
    "from sklearn.decomposition import PCA\n",
    "\n",
    "df = pd.read_pickle('../data/cleandf.pkl')"
   ]
  },
  {
   "cell_type": "code",
   "execution_count": 4,
   "metadata": {},
   "outputs": [
    {
     "data": {
      "text/html": [
       "<div>\n",
       "<style scoped>\n",
       "    .dataframe tbody tr th:only-of-type {\n",
       "        vertical-align: middle;\n",
       "    }\n",
       "\n",
       "    .dataframe tbody tr th {\n",
       "        vertical-align: top;\n",
       "    }\n",
       "\n",
       "    .dataframe thead th {\n",
       "        text-align: right;\n",
       "    }\n",
       "</style>\n",
       "<table border=\"1\" class=\"dataframe\">\n",
       "  <thead>\n",
       "    <tr style=\"text-align: right;\">\n",
       "      <th></th>\n",
       "      <th>control</th>\n",
       "      <th>age1_x</th>\n",
       "      <th>metro3</th>\n",
       "      <th>region</th>\n",
       "      <th>l_med_x</th>\n",
       "      <th>fmr_x</th>\n",
       "      <th>l_30_x</th>\n",
       "      <th>l_50_x</th>\n",
       "      <th>l_80_x</th>\n",
       "      <th>i_pov_x</th>\n",
       "      <th>...</th>\n",
       "      <th>in91_hud_med</th>\n",
       "      <th>in93_hud_med</th>\n",
       "      <th>in95_hud_med</th>\n",
       "      <th>in97_hud_med</th>\n",
       "      <th>in99_hud_med</th>\n",
       "      <th>in01_hud_med</th>\n",
       "      <th>in03_hud_med</th>\n",
       "      <th>in05_hud_med</th>\n",
       "      <th>in07_hud_med</th>\n",
       "      <th>in09_hud_med</th>\n",
       "    </tr>\n",
       "  </thead>\n",
       "  <tbody>\n",
       "    <tr>\n",
       "      <th>0</th>\n",
       "      <td>54288</td>\n",
       "      <td>82</td>\n",
       "      <td>'3'</td>\n",
       "      <td>'1'</td>\n",
       "      <td>73738</td>\n",
       "      <td>956</td>\n",
       "      <td>15738</td>\n",
       "      <td>26213</td>\n",
       "      <td>40322</td>\n",
       "      <td>11067</td>\n",
       "      <td>...</td>\n",
       "      <td>38000</td>\n",
       "      <td>34800</td>\n",
       "      <td>35700</td>\n",
       "      <td>39100</td>\n",
       "      <td>42400</td>\n",
       "      <td>45600</td>\n",
       "      <td>43800</td>\n",
       "      <td>46350</td>\n",
       "      <td>45200.0</td>\n",
       "      <td>50800.0</td>\n",
       "    </tr>\n",
       "    <tr>\n",
       "      <th>1</th>\n",
       "      <td>54290</td>\n",
       "      <td>50</td>\n",
       "      <td>'5'</td>\n",
       "      <td>'3'</td>\n",
       "      <td>55846</td>\n",
       "      <td>1100</td>\n",
       "      <td>17165</td>\n",
       "      <td>28604</td>\n",
       "      <td>45744</td>\n",
       "      <td>24218</td>\n",
       "      <td>...</td>\n",
       "      <td>38000</td>\n",
       "      <td>34800</td>\n",
       "      <td>35700</td>\n",
       "      <td>39100</td>\n",
       "      <td>42400</td>\n",
       "      <td>45600</td>\n",
       "      <td>43800</td>\n",
       "      <td>46350</td>\n",
       "      <td>45200.0</td>\n",
       "      <td>50800.0</td>\n",
       "    </tr>\n",
       "    <tr>\n",
       "      <th>2</th>\n",
       "      <td>54291</td>\n",
       "      <td>53</td>\n",
       "      <td>'5'</td>\n",
       "      <td>'3'</td>\n",
       "      <td>55846</td>\n",
       "      <td>1100</td>\n",
       "      <td>13750</td>\n",
       "      <td>22897</td>\n",
       "      <td>36614</td>\n",
       "      <td>15470</td>\n",
       "      <td>...</td>\n",
       "      <td>38000</td>\n",
       "      <td>34800</td>\n",
       "      <td>35700</td>\n",
       "      <td>39100</td>\n",
       "      <td>42400</td>\n",
       "      <td>45600</td>\n",
       "      <td>43800</td>\n",
       "      <td>46350</td>\n",
       "      <td>45200.0</td>\n",
       "      <td>50800.0</td>\n",
       "    </tr>\n",
       "    <tr>\n",
       "      <th>3</th>\n",
       "      <td>54295</td>\n",
       "      <td>67</td>\n",
       "      <td>'5'</td>\n",
       "      <td>'3'</td>\n",
       "      <td>55846</td>\n",
       "      <td>949</td>\n",
       "      <td>13750</td>\n",
       "      <td>22897</td>\n",
       "      <td>36614</td>\n",
       "      <td>13964</td>\n",
       "      <td>...</td>\n",
       "      <td>38000</td>\n",
       "      <td>34800</td>\n",
       "      <td>35700</td>\n",
       "      <td>39100</td>\n",
       "      <td>42400</td>\n",
       "      <td>45600</td>\n",
       "      <td>43800</td>\n",
       "      <td>46350</td>\n",
       "      <td>45200.0</td>\n",
       "      <td>50800.0</td>\n",
       "    </tr>\n",
       "  </tbody>\n",
       "</table>\n",
       "<p>4 rows × 211 columns</p>\n",
       "</div>"
      ],
      "text/plain": [
       "   control  age1_x metro3 region  l_med_x  fmr_x  l_30_x  l_50_x  l_80_x  \\\n",
       "0    54288      82    '3'    '1'    73738    956   15738   26213   40322   \n",
       "1    54290      50    '5'    '3'    55846   1100   17165   28604   45744   \n",
       "2    54291      53    '5'    '3'    55846   1100   13750   22897   36614   \n",
       "3    54295      67    '5'    '3'    55846    949   13750   22897   36614   \n",
       "\n",
       "   i_pov_x  ...  in91_hud_med  in93_hud_med in95_hud_med  in97_hud_med  \\\n",
       "0    11067  ...         38000         34800        35700         39100   \n",
       "1    24218  ...         38000         34800        35700         39100   \n",
       "2    15470  ...         38000         34800        35700         39100   \n",
       "3    13964  ...         38000         34800        35700         39100   \n",
       "\n",
       "   in99_hud_med  in01_hud_med in03_hud_med  in05_hud_med  in07_hud_med  \\\n",
       "0         42400         45600        43800         46350       45200.0   \n",
       "1         42400         45600        43800         46350       45200.0   \n",
       "2         42400         45600        43800         46350       45200.0   \n",
       "3         42400         45600        43800         46350       45200.0   \n",
       "\n",
       "   in09_hud_med  \n",
       "0       50800.0  \n",
       "1       50800.0  \n",
       "2       50800.0  \n",
       "3       50800.0  \n",
       "\n",
       "[4 rows x 211 columns]"
      ]
     },
     "execution_count": 4,
     "metadata": {},
     "output_type": "execute_result"
    }
   ],
   "source": [
    "df.head(4)"
   ]
  },
  {
   "cell_type": "code",
   "execution_count": null,
   "metadata": {},
   "outputs": [],
   "source": [
    "new_df = df.filter(regex='zinc2_x|hud_med')\n",
    "new_df.head(4)\n",
    "new_df.describe()"
   ]
  },
  {
   "cell_type": "code",
   "execution_count": null,
   "metadata": {},
   "outputs": [],
   "source": [
    "corr_new_df = new_df.corr(method='pearson')\n",
    "print('----------Correlations using Pearson Method----------')\n",
    "print(corr_new_df)\n",
    "print('----------Heatmap based on above correlations----------')\n",
    "mask = np.zeros_like(corr_new_df)\n",
    "mask[np.triu_indices_from(mask)] = True\n",
    "seaborn.heatmap(corr_new_df, cmap='RdYlGn_r', vmax=1.0, vmin=-1.0, mask = mask, linewidths=2.5)\n",
    "\n",
    "plt.yticks(rotation=0) \n",
    "plt.xticks(rotation=90) \n",
    "plt.show()"
   ]
  },
  {
   "cell_type": "code",
   "execution_count": null,
   "metadata": {},
   "outputs": [],
   "source": [
    "# investigate own_rent\n",
    "df.own_rent_x.unique()"
   ]
  },
  {
   "cell_type": "code",
   "execution_count": 5,
   "metadata": {},
   "outputs": [],
   "source": [
    "# Seperate out the features and set OWN_RENT_X as the target\n",
    "df_y = df['own_rent_y']\n"
   ]
  },
  {
   "cell_type": "code",
   "execution_count": 7,
   "metadata": {},
   "outputs": [
    {
     "data": {
      "text/plain": [
       "array([[-9.00000000e+00,  1.00000000e+00,  1.00000000e+00, ...,\n",
       "         3.79320000e+04,  6.88333333e+02,  2.00000000e+00],\n",
       "       [ 0.00000000e+00,  2.00000000e+00,  4.00000000e+00, ...,\n",
       "         2.94300000e+04,  0.00000000e+00,  2.00000000e+00],\n",
       "       [-9.00000000e+00,  1.00000000e+00,  1.00000000e+00, ...,\n",
       "         2.94300000e+04,  0.00000000e+00,  3.00000000e+00],\n",
       "       ...,\n",
       "       [-9.00000000e+00,  1.00000000e+00,  1.00000000e+00, ...,\n",
       "         3.75260000e+04,  0.00000000e+00,  2.00000000e+00],\n",
       "       [ 0.00000000e+00,  3.00000000e+00,  6.00000000e+00, ...,\n",
       "         2.91150000e+04,  1.00000000e+01,  2.00000000e+00],\n",
       "       [ 0.00000000e+00,  4.00000000e+00,  2.00000000e+01, ...,\n",
       "         2.42625000e+04,  1.00000000e+01,  2.00000000e+00]])"
      ]
     },
     "execution_count": 7,
     "metadata": {},
     "output_type": "execute_result"
    }
   ],
   "source": [
    "features = ['assisted_y', 'structure_type_y', 'n_units_y', 'vacancy_y', 'cost12_rel_ami_cat_y', 'rooms_y', 'bedrms_y', 'value_y', 'cost08_rel_ami_cat_y', 'utility_y', 'cost12_rel_fmr_cat_y', 'abl_80_y', 'cost_12', 'fmr_y', 'cost12_rel_ami_pct_y', 'cost06_rel_ami_cat_y', 'cost12_rel_fmr_pct_y', 'cost12_rel_pov_pct_y', 'age1_y','cost_08_y', 'cost12_rel_pov_cat_y', 'inc_pel_ami_cat','abl_50_y','other_cost_y','cost08_rel_fmr_cat_y']\n",
    "df_x = df.loc[:, features].values\n",
    "df_x\n"
   ]
  },
  {
   "cell_type": "code",
   "execution_count": 5,
   "metadata": {},
   "outputs": [],
   "source": [
    "df_features = pd.DataFrame(df_x)\n",
    "df_next = df_features.replace([np.inf, -np.inf], np.nan)\n",
    "#df_features.head(1000)\n",
    "#df_cleaned = df_features.dropna(how='any') "
   ]
  },
  {
   "cell_type": "code",
   "execution_count": 6,
   "metadata": {},
   "outputs": [],
   "source": [
    "df_next.describe()\n",
    "df_cleaned = df_next.dropna(how='any') \n",
    "df_cleaned.isna().all()\n",
    "df_cleaned = np.ndarray(df_cleaned)"
   ]
  },
  {
   "cell_type": "code",
   "execution_count": 8,
   "metadata": {},
   "outputs": [
    {
     "data": {
      "text/plain": [
       "array([[2.00000000e+00, 5.00000000e+03, 8.73531994e+02, ...,\n",
       "        1.09431696e+02, 5.00000000e+03, 5.08000000e+04],\n",
       "       [2.00000000e+00, 5.00000000e+03, 7.61134617e+02, ...,\n",
       "        9.91087344e+01, 5.00000000e+03, 5.08000000e+04],\n",
       "       [2.00000000e+00, 5.00000000e+03, 8.67961424e+02, ...,\n",
       "        2.91288236e+02, 5.00000000e+03, 5.08000000e+04],\n",
       "       ...,\n",
       "       [2.00000000e+00, 4.12000000e+03, 2.59964915e+02, ...,\n",
       "        1.17679692e+02, 4.12000000e+03, 5.53666700e+04],\n",
       "       [2.00000000e+00, 4.12000000e+03, 2.34389546e+02, ...,\n",
       "        7.41541353e+01, 4.12000000e+03, 5.53666700e+04],\n",
       "       [1.00000000e+00, 4.12000000e+03, 2.34389546e+02, ...,\n",
       "        7.96296296e+01, 4.12000000e+03, 5.53666700e+04]])"
      ]
     },
     "execution_count": 8,
     "metadata": {},
     "output_type": "execute_result"
    }
   ],
   "source": [
    "np.nan_to_num(df_x)\n"
   ]
  },
  {
   "cell_type": "code",
   "execution_count": 8,
   "metadata": {},
   "outputs": [],
   "source": [
    "from sklearn.preprocessing import StandardScaler\n",
    "df_cleaned = StandardScaler().fit_transform(df_x)"
   ]
  },
  {
   "cell_type": "code",
   "execution_count": 16,
   "metadata": {},
   "outputs": [],
   "source": [
    "from sklearn.decomposition import PCA\n",
    "pca = PCA(n_components=2)\n",
    "principalComponents = pca.fit_transform(df_cleaned)\n"
   ]
  },
  {
   "cell_type": "code",
   "execution_count": 17,
   "metadata": {},
   "outputs": [],
   "source": [
    "principalDf = pd.DataFrame(data = principalComponents\n",
    "             , columns = ['principal component 1', 'principal component 2'])\n",
    "\n"
   ]
  },
  {
   "cell_type": "code",
   "execution_count": 18,
   "metadata": {},
   "outputs": [],
   "source": [
    "finalDf = pd.concat([principalDf, df[['own_rent_y']]], axis = 1)\n"
   ]
  },
  {
   "cell_type": "code",
   "execution_count": 19,
   "metadata": {},
   "outputs": [
    {
     "data": {
      "image/png": "[encoded data removed]",
      "text/plain": [
       "<Figure size 576x576 with 1 Axes>"
      ]
     },
     "metadata": {
      "needs_background": "light"
     },
     "output_type": "display_data"
    }
   ],
   "source": [
    "fig = plt.figure(figsize = (8,8))\n",
    "ax = fig.add_subplot(1,1,1) \n",
    "ax.set_xlabel('Principal Component 1', fontsize = 15)\n",
    "ax.set_ylabel('Principal Component 2', fontsize = 15)\n",
    "\n",
    "ax.set_title('2 component PCA', fontsize = 20)\n",
    "targets = ['Own', 'Rent']\n",
    "colors = ['r', 'g']\n",
    "for target, color in zip(targets,colors):\n",
    "    indicesToKeep = finalDf['own_rent_y'] == target\n",
    "    ax.scatter(finalDf.loc[indicesToKeep, 'principal component 1']\n",
    "               , finalDf.loc[indicesToKeep, 'principal component 2']\n",
    "               , c = color\n",
    "               , s = 50)\n",
    "ax.legend(targets)\n",
    "ax.grid()"
   ]
  },
  {
   "cell_type": "code",
   "execution_count": null,
   "metadata": {},
   "outputs": [],
   "source": []
  }
 ],
 "metadata": {
  "kernelspec": {
   "display_name": "Python 3",
   "language": "python",
   "name": "python3"
  },
  "language_info": {
   "codemirror_mode": {
    "name": "ipython",
    "version": 3
   },
   "file_extension": ".py",
   "mimetype": "text/x-python",
   "name": "python",
   "nbconvert_exporter": "python",
   "pygments_lexer": "ipython3",
   "version": "3.7.3"
  }
 },
 "nbformat": 4,
 "nbformat_minor": 2
}
